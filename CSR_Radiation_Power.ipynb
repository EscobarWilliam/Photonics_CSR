{
  "nbformat": 4,
  "nbformat_minor": 0,
  "metadata": {
    "colab": {
      "provenance": [],
      "authorship_tag": "ABX9TyNEIbWYnVPp0ZVC+TlNmpbs",
      "include_colab_link": true
    },
    "kernelspec": {
      "name": "python3",
      "display_name": "Python 3"
    },
    "language_info": {
      "name": "python"
    }
  },
  "cells": [
    {
      "cell_type": "markdown",
      "metadata": {
        "id": "view-in-github",
        "colab_type": "text"
      },
      "source": [
        "<a href=\"https://colab.research.google.com/github/EscobarWilliam/Photonics_CSR/blob/main/CSR_Radiation_Power.ipynb\" target=\"_parent\"><img src=\"https://colab.research.google.com/assets/colab-badge.svg\" alt=\"Open In Colab\"/></a>"
      ]
    },
    {
      "cell_type": "code",
      "source": [
        "import numpy as np\n",
        "\n",
        "# Hermite_Gaussian Laser heater parameters\n",
        "gamma0 = 135  # Electron energy at LH in MeV\n",
        "K = 1.56  # LH undulator strength parameter\n",
        "Lu = 0.5  # LH undulator length in m\n",
        "beta_avg = 10  # Average beta function in m\n",
        "sigma_x = 190e-6  # Transverse rms electron beam size in m\n",
        "sigma_x_ = 50e-6\n",
        "lambda_u = 0.05  # Undulator period in m\n",
        "Bu = 0.33  # Undulator field in T\n",
        "e = 1.60217662e-19  # Electron charge in C\n",
        "c = 2.99792458e8  # Speed of light in m/s\n",
        "\n",
        "# Additional parameters\n",
        "lambda_l = 800e-9  # Laser wavelength in m\n",
        "sigma_r = 175e-6  # Transverse rms laser beam size in m\n",
        "\n",
        "# Calculate electron velocity\n",
        "v = c * np.sqrt(1 - 1 / gamma0**2)\n",
        "\n",
        "# Define synchrotron radiation power function\n",
        "def synchrotron_radiation_power(K, gamma0, v, e, c, lambda_u, Bu, sigma_x, sigma_r):\n",
        "    \"\"\"\n",
        "    Calculates the synchrotron radiation power based on the user-provided formula.\n",
        "\n",
        "    Args:\n",
        "        K: Undulator strength parameter\n",
        "        gamma0: Lorentz factor\n",
        "        v: Electron velocity\n",
        "        e: Electron charge\n",
        "        c: Speed of light\n",
        "        lambda_u: Undulator period\n",
        "        Bu: Undulator field\n",
        "        sigma_x: Transverse rms electron beam size\n",
        "        sigma_r: Transverse rms laser beam size\n",
        "\n",
        "    Returns:\n",
        "        P: Synchrotron radiation power in W\n",
        "    \"\"\"\n",
        "    P = 2 * K * e**2 * (gamma0**4) * v**4 / (3 * c**3 * sigma_x**2 * sigma_r**2)\n",
        "    return P\n",
        "\n",
        "# Calculate synchrotron radiation power\n",
        "P = synchrotron_radiation_power(K, gamma0, v, e, c, lambda_u, Bu, sigma_x, sigma_r)\n",
        "\n",
        "# Print result\n",
        "print(\"Synchrotron radiation power per electron for Hermite-Gauss LCLS:\", P, \"W\")\n",
        "\n",
        "# Calculate synchrotron radiation power\n",
        "P = synchrotron_radiation_power(K, gamma0, v, e, c, lambda_u, Bu, sigma_x_, sigma_r)\n",
        "\n",
        "# Print result\n",
        "print(\"Synchrotron radiation power per electron for Laguerre-Gauss LCLS:\", P, \"W\")"
      ],
      "metadata": {
        "colab": {
          "base_uri": "https://localhost:8080/"
        },
        "id": "BZtZp444wQD8",
        "outputId": "967686cc-1076-40dc-9a88-d780cbf79665"
      },
      "execution_count": 8,
      "outputs": [
        {
          "output_type": "stream",
          "name": "stdout",
          "text": [
            "Synchrotron radiation power per electron for Hermite-Gauss LCLS: 2.404246188919493e-06 W\n",
            "Synchrotron radiation power per electron for Laguerre-Gauss LCLS: 3.471731496799748e-05 W\n"
          ]
        }
      ]
    }
  ]
}